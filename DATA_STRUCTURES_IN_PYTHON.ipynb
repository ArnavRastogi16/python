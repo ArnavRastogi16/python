{
  "nbformat": 4,
  "nbformat_minor": 0,
  "metadata": {
    "colab": {
      "provenance": [],
      "authorship_tag": "ABX9TyO55BBPmzK0+CsP2UNNtlk5",
      "include_colab_link": true
    },
    "kernelspec": {
      "name": "python3",
      "display_name": "Python 3"
    },
    "language_info": {
      "name": "python"
    }
  },
  "cells": [
    {
      "cell_type": "markdown",
      "metadata": {
        "id": "view-in-github",
        "colab_type": "text"
      },
      "source": [
        "<a href=\"https://colab.research.google.com/github/ArnavRastogi16/python/blob/main/DATA_STRUCTURES_IN_PYTHON.ipynb\" target=\"_parent\"><img src=\"https://colab.research.google.com/assets/colab-badge.svg\" alt=\"Open In Colab\"/></a>"
      ]
    },
    {
      "cell_type": "code",
      "execution_count": 1,
      "metadata": {
        "colab": {
          "base_uri": "https://localhost:8080/"
        },
        "id": "9oMwrMwmhEQx",
        "outputId": "09684ff9-dca0-4b80-fd44-c89e87060db6"
      },
      "outputs": [
        {
          "output_type": "stream",
          "name": "stdout",
          "text": [
            "!dlroW ,olleH\n"
          ]
        }
      ],
      "source": [
        "## QUES 01) Write a code to reverse a string.\n",
        "def reverse_string(s):\n",
        "    return s[::-1]\n",
        "\n",
        "# Test the function\n",
        "sample_string = \"Hello, World!\"\n",
        "reversed_string = reverse_string(sample_string)\n",
        "print(reversed_string)"
      ]
    },
    {
      "cell_type": "code",
      "source": [
        "## QUES 02) Write a code to count the number of vowels in a string.\n",
        "def count_vowels(s):\n",
        "    vowels = \"aeiouAEIOU\"\n",
        "    count = 0\n",
        "    for char in s:\n",
        "        if char in vowels:\n",
        "            count += 1\n",
        "    return count\n",
        "\n",
        "# Test the function\n",
        "sample_string = \"Hello, World!\"\n",
        "vowel_count = count_vowels(sample_string)\n",
        "print(f\"The number of vowels in the string is: {vowel_count}\")"
      ],
      "metadata": {
        "colab": {
          "base_uri": "https://localhost:8080/"
        },
        "id": "EXaik-eKhTMQ",
        "outputId": "be2844ac-1f03-4a82-c594-f007562ddeb4"
      },
      "execution_count": 2,
      "outputs": [
        {
          "output_type": "stream",
          "name": "stdout",
          "text": [
            "The number of vowels in the string is: 3\n"
          ]
        }
      ]
    },
    {
      "cell_type": "code",
      "source": [
        "## QUES 03) Write a code to check if a given string is a palindrome or not.\n",
        "def is_palindrome(s):\n",
        "    # Removing any spaces and converting to lowercase for consistency\n",
        "    s = s.replace(\" \", \"\").lower()\n",
        "    # Comparing the string with its reverse\n",
        "    return s == s[::-1]\n",
        "\n",
        "# Test the function\n",
        "sample_string = \"A man a plan a canal Panama\"\n",
        "if is_palindrome(sample_string):\n",
        "    print(f'\"{sample_string}\" is a palindrome.')\n",
        "else:\n",
        "    print(f'\"{sample_string}\" is not a palindrome.')"
      ],
      "metadata": {
        "colab": {
          "base_uri": "https://localhost:8080/"
        },
        "id": "0IEC3E_DhkEh",
        "outputId": "ecc4e9f5-bbf7-4cce-834d-7ee478882aff"
      },
      "execution_count": 3,
      "outputs": [
        {
          "output_type": "stream",
          "name": "stdout",
          "text": [
            "\"A man a plan a canal Panama\" is a palindrome.\n"
          ]
        }
      ]
    },
    {
      "cell_type": "code",
      "source": [
        "## QUES 04) Write a code to check if two given strings are anagrams of each other.\n",
        "def are_anagrams(str1, str2):\n",
        "    # Removing any spaces and converting to lowercase for consistency\n",
        "    str1 = str1.replace(\" \", \"\").lower()\n",
        "    str2 = str2.replace(\" \", \"\").lower()\n",
        "\n",
        "    # Sorting and comparing the characters of both strings\n",
        "    return sorted(str1) == sorted(str2)\n",
        "\n",
        "# Test the function\n",
        "string1 = \"Listen\"\n",
        "string2 = \"Silent\"\n",
        "if are_anagrams(string1, string2):\n",
        "    print(f'\"{string1}\" and \"{string2}\" are anagrams.')\n",
        "else:\n",
        "    print(f'\"{string1}\" and \"{string2}\" are not anagrams.')"
      ],
      "metadata": {
        "colab": {
          "base_uri": "https://localhost:8080/"
        },
        "id": "rHhD9AI_hwuZ",
        "outputId": "433680f8-9b26-4023-d702-13c6c0d18397"
      },
      "execution_count": 4,
      "outputs": [
        {
          "output_type": "stream",
          "name": "stdout",
          "text": [
            "\"Listen\" and \"Silent\" are anagrams.\n"
          ]
        }
      ]
    },
    {
      "cell_type": "code",
      "source": [
        "## QUES 05)  Write a code to find all occurrences of a given substring within another string.\n",
        "def find_substring_occurrences(main_string, substring):\n",
        "    occurrences = []\n",
        "    start = 0\n",
        "    while start < len(main_string):\n",
        "        start = main_string.find(substring, start)\n",
        "        if start == -1:\n",
        "            break\n",
        "        occurrences.append(start)\n",
        "        start += len(substring)  # move to the next position after the found substring\n",
        "    return occurrences\n",
        "\n",
        "# Test the function\n",
        "main_string = \"This is a test. This test is only a test.\"\n",
        "substring = \"test\"\n",
        "occurrences = find_substring_occurrences(main_string, substring)\n",
        "print(f'The substring \"{substring}\" is found at positions: {occurrences}')"
      ],
      "metadata": {
        "colab": {
          "base_uri": "https://localhost:8080/"
        },
        "id": "6KW_gNYEh7VB",
        "outputId": "d5fd44a6-5621-4abe-9ffd-10aaec97ae7d"
      },
      "execution_count": 5,
      "outputs": [
        {
          "output_type": "stream",
          "name": "stdout",
          "text": [
            "The substring \"test\" is found at positions: [10, 21, 36]\n"
          ]
        }
      ]
    },
    {
      "cell_type": "code",
      "source": [
        "## QUES 06) Write a code to perform basic string compression using the counts of repeated characters.\n",
        "def compress_string(s):\n",
        "    compressed = []\n",
        "    count = 1\n",
        "\n",
        "    for i in range(1, len(s) + 1):\n",
        "        if i < len(s) and s[i] == s[i - 1]:\n",
        "            count += 1\n",
        "        else:\n",
        "            compressed.append(s[i - 1] + str(count))\n",
        "            count = 1\n",
        "\n",
        "    return ''.join(compressed)\n",
        "\n",
        "# Test the function\n",
        "sample_string = \"aaabbbcccaaa\"\n",
        "compressed_string = compress_string(sample_string)\n",
        "print(f'The compressed string is: {compressed_string}')"
      ],
      "metadata": {
        "colab": {
          "base_uri": "https://localhost:8080/"
        },
        "id": "oOWf2bqpiDyp",
        "outputId": "b562b978-4876-457d-c974-620420faa4a3"
      },
      "execution_count": 6,
      "outputs": [
        {
          "output_type": "stream",
          "name": "stdout",
          "text": [
            "The compressed string is: a3b3c3a3\n"
          ]
        }
      ]
    },
    {
      "cell_type": "code",
      "source": [
        "## QUES 07) Write a code to determine if a string has all unique characters.\n",
        "def has_unique_characters(s):\n",
        "    # Using a set to keep track of characters seen so far\n",
        "    seen_characters = set()\n",
        "\n",
        "    for char in s:\n",
        "        if char in seen_characters:\n",
        "            return False\n",
        "        seen_characters.add(char)\n",
        "\n",
        "    return True\n",
        "\n",
        "# Test the function\n",
        "sample_string = \"abcdefg\"\n",
        "if has_unique_characters(sample_string):\n",
        "    print(f'The string \"{sample_string}\" has all unique characters.')\n",
        "else:\n",
        "    print(f'The string \"{sample_string}\" does not have all unique characters.')"
      ],
      "metadata": {
        "colab": {
          "base_uri": "https://localhost:8080/"
        },
        "id": "BcbGUdO4iLcd",
        "outputId": "55d3ce78-481d-46ed-9e79-2c7377b89776"
      },
      "execution_count": 7,
      "outputs": [
        {
          "output_type": "stream",
          "name": "stdout",
          "text": [
            "The string \"abcdefg\" has all unique characters.\n"
          ]
        }
      ]
    },
    {
      "cell_type": "code",
      "source": [
        "## QUES 08) Write a code to convert a given string to uppercase or lowercase.\n",
        "def to_uppercase(s):\n",
        "    return s.upper()\n",
        "\n",
        "def to_lowercase(s):\n",
        "    return s.lower()\n",
        "\n",
        "# Test the functions\n",
        "sample_string = \"Hello, World!\"\n",
        "uppercase_string = to_uppercase(sample_string)\n",
        "lowercase_string = to_lowercase(sample_string)\n",
        "\n",
        "print(f'The original string is: {sample_string}')\n",
        "print(f'The uppercase string is: {uppercase_string}')\n",
        "print(f'The lowercase string is: {lowercase_string}')"
      ],
      "metadata": {
        "colab": {
          "base_uri": "https://localhost:8080/"
        },
        "id": "fZCsqqRfiUOj",
        "outputId": "1aba95fa-f7f6-450f-bbf5-6579366f297f"
      },
      "execution_count": 8,
      "outputs": [
        {
          "output_type": "stream",
          "name": "stdout",
          "text": [
            "The original string is: Hello, World!\n",
            "The uppercase string is: HELLO, WORLD!\n",
            "The lowercase string is: hello, world!\n"
          ]
        }
      ]
    },
    {
      "cell_type": "code",
      "source": [
        "## QUES 09) Write a code to count the number of words in a string.\n",
        "def count_words(s):\n",
        "    words = s.split()\n",
        "    return len(words)\n",
        "\n",
        "# Test the function\n",
        "sample_string = \"Hello, World! This is a test string.\"\n",
        "word_count = count_words(sample_string)\n",
        "print(f'The number of words in the string is: {word_count}')"
      ],
      "metadata": {
        "colab": {
          "base_uri": "https://localhost:8080/"
        },
        "id": "KE6OVEauicd7",
        "outputId": "e48c751e-7301-4450-830a-930af128ec4c"
      },
      "execution_count": 9,
      "outputs": [
        {
          "output_type": "stream",
          "name": "stdout",
          "text": [
            "The number of words in the string is: 7\n"
          ]
        }
      ]
    },
    {
      "cell_type": "code",
      "source": [
        "## QUES 10) Write a code to concatenate two strings without using the + operator.\n",
        "def concatenate_strings(str1, str2):\n",
        "    return \"{}{}\".format(str1, str2)\n",
        "\n",
        "# Test the function\n",
        "string1 = \"Hello\"\n",
        "string2 = \"World\"\n",
        "concatenated_string = concatenate_strings(string1, string2)\n",
        "print(f'The concatenated string is: {concatenated_string}')"
      ],
      "metadata": {
        "colab": {
          "base_uri": "https://localhost:8080/"
        },
        "id": "SEacgbLhik-x",
        "outputId": "a1d09c4d-9f71-4940-84ea-acd840527857"
      },
      "execution_count": 10,
      "outputs": [
        {
          "output_type": "stream",
          "name": "stdout",
          "text": [
            "The concatenated string is: HelloWorld\n"
          ]
        }
      ]
    },
    {
      "cell_type": "code",
      "source": [
        "## QUES 11) Write a code to remove all occurrences of a specific element from a list.\n",
        "def remove_element(lst, element):\n",
        "    return [x for x in lst if x != element]\n",
        "\n",
        "# Test the function\n",
        "sample_list = [1, 2, 3, 4, 3, 5, 3, 6]\n",
        "element_to_remove = 3\n",
        "new_list = remove_element(sample_list, element_to_remove)\n",
        "print(f'The new list after removing {element_to_remove} is: {new_list}')"
      ],
      "metadata": {
        "colab": {
          "base_uri": "https://localhost:8080/"
        },
        "id": "fKgGpz4Jityx",
        "outputId": "0e960b42-0b75-4006-928c-3cbd373310eb"
      },
      "execution_count": 11,
      "outputs": [
        {
          "output_type": "stream",
          "name": "stdout",
          "text": [
            "The new list after removing 3 is: [1, 2, 4, 5, 6]\n"
          ]
        }
      ]
    },
    {
      "cell_type": "code",
      "source": [
        "## QUES 12) Implement a code to find the second largest number in a given list of integers.\n",
        "def find_second_largest(lst):\n",
        "    # Remove duplicates by converting the list to a set, then back to a list\n",
        "    unique_lst = list(set(lst))\n",
        "\n",
        "    if len(unique_lst) < 2:\n",
        "        return None  # Not enough elements to find the second largest\n",
        "\n",
        "    unique_lst.sort(reverse=True)  # Sort the list in descending order\n",
        "    return unique_lst[1]  # The second element is the second largest\n",
        "\n",
        "# Test the function\n",
        "sample_list = [10, 20, 4, 45, 99, 99, 20]\n",
        "second_largest = find_second_largest(sample_list)\n",
        "if second_largest is not None:\n",
        "    print(f'The second largest number in the list is: {second_largest}')\n",
        "else:\n",
        "    print('The list does not have enough unique elements to determine the second largest number.')"
      ],
      "metadata": {
        "colab": {
          "base_uri": "https://localhost:8080/"
        },
        "id": "sajClpNTi4LS",
        "outputId": "189d74a1-93b5-4d3e-ae3c-c2c0b72f0346"
      },
      "execution_count": 12,
      "outputs": [
        {
          "output_type": "stream",
          "name": "stdout",
          "text": [
            "The second largest number in the list is: 45\n"
          ]
        }
      ]
    },
    {
      "cell_type": "code",
      "source": [
        "## QUES 13)  Create a code to count the occurrences of each element in a list and return a dictionary with elements as\n",
        "# keys and their counts as values.\n",
        "def count_occurrences(lst):\n",
        "    occurrence_dict = {}\n",
        "    for element in lst:\n",
        "        if element in occurrence_dict:\n",
        "            occurrence_dict[element] += 1\n",
        "        else:\n",
        "            occurrence_dict[element] = 1\n",
        "    return occurrence_dict\n",
        "\n",
        "# Test the function\n",
        "sample_list = [1, 2, 2, 3, 4, 4, 4, 5, 5, 5, 5]\n",
        "occurrences = count_occurrences(sample_list)\n",
        "print(f'The occurrences of each element are: {occurrences}')\n"
      ],
      "metadata": {
        "colab": {
          "base_uri": "https://localhost:8080/"
        },
        "id": "N7qu4wlFjBga",
        "outputId": "b85b174b-4949-4781-c714-93718896f029"
      },
      "execution_count": 13,
      "outputs": [
        {
          "output_type": "stream",
          "name": "stdout",
          "text": [
            "The occurrences of each element are: {1: 1, 2: 2, 3: 1, 4: 3, 5: 4}\n"
          ]
        }
      ]
    },
    {
      "cell_type": "code",
      "source": [
        "## QUES 14) Write a code to reverse a list in-place without using any built-in reverse functions.\n",
        "def reverse_list_in_place(lst):\n",
        "    left = 0\n",
        "    right = len(lst) - 1\n",
        "\n",
        "    while left < right:\n",
        "        # Swap the elements at the left and right indices\n",
        "        lst[left], lst[right] = lst[right], lst[left]\n",
        "\n",
        "        # Move the pointers towards the center\n",
        "        left += 1\n",
        "        right -= 1\n",
        "\n",
        "# Test the function\n",
        "sample_list = [1, 2, 3, 4, 5]\n",
        "reverse_list_in_place(sample_list)\n",
        "print(f'The reversed list is: {sample_list}')"
      ],
      "metadata": {
        "colab": {
          "base_uri": "https://localhost:8080/"
        },
        "id": "BjEKxMxIjOxx",
        "outputId": "f5731f08-8cd3-480a-de81-4b60eb48ffd4"
      },
      "execution_count": 14,
      "outputs": [
        {
          "output_type": "stream",
          "name": "stdout",
          "text": [
            "The reversed list is: [5, 4, 3, 2, 1]\n"
          ]
        }
      ]
    },
    {
      "cell_type": "code",
      "source": [
        "## QUES 15)  Implement a code to find and remove duplicates from a list while preserving the original order of\n",
        "# elements.\n",
        "def remove_duplicates(lst):\n",
        "    seen = set()\n",
        "    result = []\n",
        "    for element in lst:\n",
        "        if element not in seen:\n",
        "            result.append(element)\n",
        "            seen.add(element)\n",
        "    return result\n",
        "\n",
        "# Test the function\n",
        "sample_list = [1, 2, 2, 3, 4, 4, 4, 5, 5, 5, 5]\n",
        "unique_list = remove_duplicates(sample_list)\n",
        "print(f'The list after removing duplicates is: {unique_list}')\n"
      ],
      "metadata": {
        "colab": {
          "base_uri": "https://localhost:8080/"
        },
        "id": "ZlfHVV6IjZAQ",
        "outputId": "5b4cfbae-1ced-40ad-bb47-38b8bb2c0609"
      },
      "execution_count": 15,
      "outputs": [
        {
          "output_type": "stream",
          "name": "stdout",
          "text": [
            "The list after removing duplicates is: [1, 2, 3, 4, 5]\n"
          ]
        }
      ]
    },
    {
      "cell_type": "code",
      "source": [
        "## QUES 16) Create a code to check if a given list is sorted (either in ascending or descending order) or not.\n",
        "def is_sorted(lst):\n",
        "    ascending = all(lst[i] <= lst[i + 1] for i in range(len(lst) - 1))\n",
        "    descending = all(lst[i] >= lst[i + 1] for i in range(len(lst) - 1))\n",
        "    return ascending or descending\n",
        "\n",
        "# Test the function\n",
        "sample_list_asc = [1, 2, 3, 4, 5]\n",
        "sample_list_desc = [5, 4, 3, 2, 1]\n",
        "sample_list_unsorted = [3, 1, 4, 2, 5]\n",
        "\n",
        "print(f'The list {sample_list_asc} is sorted: {is_sorted(sample_list_asc)}')\n",
        "print(f'The list {sample_list_desc} is sorted: {is_sorted(sample_list_desc)}')\n",
        "print(f'The list {sample_list_unsorted} is sorted: {is_sorted(sample_list_unsorted)}')"
      ],
      "metadata": {
        "colab": {
          "base_uri": "https://localhost:8080/"
        },
        "id": "WXuUppDQjj9x",
        "outputId": "f87f1c69-8c03-4108-a4d7-bb1ce8920da5"
      },
      "execution_count": 16,
      "outputs": [
        {
          "output_type": "stream",
          "name": "stdout",
          "text": [
            "The list [1, 2, 3, 4, 5] is sorted: True\n",
            "The list [5, 4, 3, 2, 1] is sorted: True\n",
            "The list [3, 1, 4, 2, 5] is sorted: False\n"
          ]
        }
      ]
    },
    {
      "cell_type": "code",
      "source": [
        "## QUES 17) Write a code to merge two sorted lists into a single sorted list.\n",
        "def merge_sorted_lists(list1, list2):\n",
        "    # Initialize pointers for both lists\n",
        "    i, j = 0, 0\n",
        "    merged_list = []\n",
        "\n",
        "    # Traverse both lists and merge them\n",
        "    while i < len(list1) and j < len(list2):\n",
        "        if list1[i] < list2[j]:\n",
        "            merged_list.append(list1[i])\n",
        "            i += 1\n",
        "        else:\n",
        "            merged_list.append(list2[j])\n",
        "            j += 1\n",
        "\n",
        "    # Append remaining elements of list1, if any\n",
        "    while i < len(list1):\n",
        "        merged_list.append(list1[i])\n",
        "        i += 1\n",
        "\n",
        "    # Append remaining elements of list2, if any\n",
        "    while j < len(list2):\n",
        "        merged_list.append(list2[j])\n",
        "        j += 1\n",
        "\n",
        "    return merged_list\n",
        "\n",
        "# Example usage\n",
        "list1 = [1, 3, 5, 7]\n",
        "list2 = [2, 4, 6, 8]\n",
        "result = merge_sorted_lists(list1, list2)\n",
        "print(\"Merged sorted list:\", result)\n"
      ],
      "metadata": {
        "colab": {
          "base_uri": "https://localhost:8080/"
        },
        "id": "Q0jT_Y6NkBmN",
        "outputId": "0a93c34c-8d15-43a5-b1cb-08933e81f025"
      },
      "execution_count": 19,
      "outputs": [
        {
          "output_type": "stream",
          "name": "stdout",
          "text": [
            "Merged sorted list: [1, 2, 3, 4, 5, 6, 7, 8]\n"
          ]
        }
      ]
    },
    {
      "cell_type": "code",
      "source": [
        "## QUES 18) Implement a code to find the intersection of two given lists.\n",
        "def find_intersection(list1, list2):\n",
        "    # Convert both lists to sets and find the intersection\n",
        "    intersection = set(list1) & set(list2)\n",
        "    return list(intersection)\n",
        "\n",
        "# Test the function\n",
        "list1 = [1, 2, 2, 3, 4, 5]\n",
        "list2 = [2, 2, 4, 6, 7, 8]\n",
        "intersection = find_intersection(list1, list2)\n",
        "print(f'The intersection of the two lists is: {intersection}')"
      ],
      "metadata": {
        "colab": {
          "base_uri": "https://localhost:8080/"
        },
        "id": "D4thDZ9dj2-v",
        "outputId": "5023f78c-90e3-4a64-e596-587308bc4620"
      },
      "execution_count": 20,
      "outputs": [
        {
          "output_type": "stream",
          "name": "stdout",
          "text": [
            "The intersection of the two lists is: [2, 4]\n"
          ]
        }
      ]
    },
    {
      "cell_type": "code",
      "source": [
        "## QUES 19) Create a code to find the union of two lists without duplicates.\n",
        "def find_union(list1, list2):\n",
        "    # Convert both lists to sets and find the union\n",
        "    union_set = set(list1) | set(list2)\n",
        "    return list(union_set)\n",
        "\n",
        "# Test the function\n",
        "list1 = [1, 2, 2, 3, 4, 5]\n",
        "list2 = [2, 2, 4, 6, 7, 8]\n",
        "union = find_union(list1, list2)\n",
        "print(f'The union of the two lists without duplicates is: {union}')"
      ],
      "metadata": {
        "colab": {
          "base_uri": "https://localhost:8080/"
        },
        "id": "VAQkC8uBkRt4",
        "outputId": "d6218612-7541-412e-97fe-c9f40fdcca73"
      },
      "execution_count": 21,
      "outputs": [
        {
          "output_type": "stream",
          "name": "stdout",
          "text": [
            "The union of the two lists without duplicates is: [1, 2, 3, 4, 5, 6, 7, 8]\n"
          ]
        }
      ]
    },
    {
      "cell_type": "code",
      "source": [
        "## QUES 20) Write a code to shuffle a given list randomly without using any built-in shuffle functions.\n",
        "import random\n",
        "\n",
        "def shuffle_list(input_list):\n",
        "    # Get the length of the list\n",
        "    n = len(input_list)\n",
        "\n",
        "    # Iterate through the list\n",
        "    for i in range(n):\n",
        "        # Generate a random index\n",
        "        j = random.randint(0, n-1)\n",
        "\n",
        "        # Swap the elements at indices i and j\n",
        "        input_list[i], input_list[j] = input_list[j], input_list[i]\n",
        "\n",
        "    return input_list\n",
        "\n",
        "# Example usage\n",
        "input_list = [1, 2, 3, 4, 5, 6]\n",
        "shuffled_list = shuffle_list(input_list)\n",
        "print(\"Shuffled list:\", shuffled_list)"
      ],
      "metadata": {
        "colab": {
          "base_uri": "https://localhost:8080/"
        },
        "id": "neIWUKnDkZZ2",
        "outputId": "fa860a16-d3f1-4353-db88-bc48cad3fcfa"
      },
      "execution_count": 22,
      "outputs": [
        {
          "output_type": "stream",
          "name": "stdout",
          "text": [
            "Shuffled list: [6, 5, 1, 2, 3, 4]\n"
          ]
        }
      ]
    },
    {
      "cell_type": "code",
      "source": [
        "## QUES 21) Write a code that takes two tuples as input and returns a new tuple containing elements that are\n",
        "# common to both input tuples.\n",
        "def common_elements(tuple1, tuple2):\n",
        "    # Convert tuples to sets to find common elements\n",
        "    set1 = set(tuple1)\n",
        "    set2 = set(tuple2)\n",
        "\n",
        "    # Find common elements using set intersection\n",
        "    common_set = set1.intersection(set2)\n",
        "\n",
        "    # Convert the set back to a tuple\n",
        "    common_tuple = tuple(common_set)\n",
        "\n",
        "    return common_tuple\n",
        "\n",
        "# Example usage\n",
        "tuple1 = (1, 2, 3, 4, 5)\n",
        "tuple2 = (4, 5, 6, 7, 8)\n",
        "result = common_elements(tuple1, tuple2)\n",
        "print(\"Common elements:\", result)"
      ],
      "metadata": {
        "colab": {
          "base_uri": "https://localhost:8080/"
        },
        "id": "b8ecaW1xkhBY",
        "outputId": "3e0031b3-bb05-4557-fe2e-82f999407487"
      },
      "execution_count": 23,
      "outputs": [
        {
          "output_type": "stream",
          "name": "stdout",
          "text": [
            "Common elements: (4, 5)\n"
          ]
        }
      ]
    },
    {
      "cell_type": "code",
      "source": [
        "## QUES 22)  Create a code that prompts the user to enter two sets of integers separated by commas. Then, print the\n",
        "# intersection of these two sets.\n",
        "def get_set_from_input(prompt):\n",
        "    # Prompt the user to enter a set of integers separated by commas\n",
        "    input_str = input(prompt)\n",
        "    # Convert the input string to a set of integers\n",
        "    input_set = set(map(int, input_str.split(',')))\n",
        "    return input_set\n",
        "\n",
        "def main():\n",
        "    # Get the first set of integers from the user\n",
        "    set1 = get_set_from_input(\"Enter the first set of integers separated by commas: \")\n",
        "    # Get the second set of integers from the user\n",
        "    set2 = get_set_from_input(\"Enter the second set of integers separated by commas: \")\n",
        "\n",
        "    # Find the intersection of the two sets\n",
        "    intersection = set1.intersection(set2)\n",
        "\n",
        "    # Print the intersection\n",
        "    print(\"Intersection of the two sets:\", intersection)\n",
        "\n",
        "# Run the main function\n",
        "if __name__ == \"__main__\":\n",
        "    main()\n",
        "\n"
      ],
      "metadata": {
        "colab": {
          "base_uri": "https://localhost:8080/"
        },
        "id": "B7wkb7rik5Ag",
        "outputId": "18b24285-3de3-4f9d-f025-096a6ce76207"
      },
      "execution_count": 25,
      "outputs": [
        {
          "output_type": "stream",
          "name": "stdout",
          "text": [
            "Enter the first set of integers separated by commas: 23,32\n",
            "Enter the second set of integers separated by commas: 55,79\n",
            "Intersection of the two sets: set()\n"
          ]
        }
      ]
    },
    {
      "cell_type": "code",
      "source": [
        "## QUES 23) Write a code to concatenate two tuples. The function should take two tuples as input and return a new\n",
        "# tuple containing elements from both input tuples.\n",
        "def concatenate_tuples(tuple1, tuple2):\n",
        "    # Concatenate the two tuples\n",
        "    concatenated_tuple = tuple1 + tuple2\n",
        "    return concatenated_tuple\n",
        "\n",
        "# Example usage\n",
        "tuple1 = (1, 2, 3)\n",
        "tuple2 = (4, 5, 6)\n",
        "result = concatenate_tuples(tuple1, tuple2)\n",
        "print(\"Concatenated tuple:\", result)"
      ],
      "metadata": {
        "colab": {
          "base_uri": "https://localhost:8080/"
        },
        "id": "3VeMsdetlI5F",
        "outputId": "ae53224e-b99c-45a3-9f0d-2150f2690aab"
      },
      "execution_count": 26,
      "outputs": [
        {
          "output_type": "stream",
          "name": "stdout",
          "text": [
            "Concatenated tuple: (1, 2, 3, 4, 5, 6)\n"
          ]
        }
      ]
    },
    {
      "cell_type": "code",
      "source": [
        "## QUES 24) Develop a code that prompts the user to input two sets of strings. Then, print the elements that are\n",
        "# present in the first set but not in the second set.\n",
        "def get_set_from_input(prompt):\n",
        "    # Prompt the user to enter a set of strings separated by commas\n",
        "    input_str = input(prompt)\n",
        "    # Convert the input string to a set of strings\n",
        "    input_set = set(input_str.split(','))\n",
        "    return input_set\n",
        "\n",
        "def main():\n",
        "    # Get the first set of strings from the user\n",
        "    set1 = get_set_from_input(\"Enter the first set of strings separated by commas: \")\n",
        "    # Get the second set of strings from the user\n",
        "    set2 = get_set_from_input(\"Enter the second set of strings separated by commas: \")\n",
        "\n",
        "    # Find the elements that are present in the first set but not in the second set\n",
        "    difference = set1.difference(set2)\n",
        "\n",
        "    # Print the elements that are present in the first set but not in the second set\n",
        "    print(\"Elements present in the first set but not in the second set:\", difference)\n",
        "\n",
        "# Run the main function\n",
        "if __name__ == \"__main__\":\n",
        "    main()\n"
      ],
      "metadata": {
        "colab": {
          "base_uri": "https://localhost:8080/"
        },
        "id": "SPhkKLEwluGq",
        "outputId": "189fa50e-f350-4372-d8ee-37aae850c048"
      },
      "execution_count": 28,
      "outputs": [
        {
          "output_type": "stream",
          "name": "stdout",
          "text": [
            "Enter the first set of strings separated by commas: \"RAHUL,MUKESH\"\n",
            "Enter the second set of strings separated by commas: \"PRASHANT,ANURAG\"\n",
            "Elements present in the first set but not in the second set: {'MUKESH\"', '\"RAHUL'}\n"
          ]
        }
      ]
    },
    {
      "cell_type": "code",
      "source": [
        "## QUES 25) Create a code that takes a tuple and two integers as input. The function should return a new tuple\n",
        "# containing elements from the original tuple within the specified range of indices.\n",
        "def slice_tuple(input_tuple, start_index, end_index):\n",
        "    # Return a new tuple containing elements within the specified range of indices\n",
        "    sliced_tuple = input_tuple[start_index:end_index]\n",
        "    return sliced_tuple\n",
        "\n",
        "# Example usage\n",
        "input_tuple = (10, 20, 30, 40, 50, 60)\n",
        "start_index = 2\n",
        "end_index = 5\n",
        "result = slice_tuple(input_tuple, start_index, end_index)\n",
        "print(\"Sliced tuple:\", result)\n"
      ],
      "metadata": {
        "colab": {
          "base_uri": "https://localhost:8080/"
        },
        "id": "HwJUFCJxl3vQ",
        "outputId": "ca7ed6d3-00a6-4ed0-a505-e6ff1754a406"
      },
      "execution_count": 29,
      "outputs": [
        {
          "output_type": "stream",
          "name": "stdout",
          "text": [
            "Sliced tuple: (30, 40, 50)\n"
          ]
        }
      ]
    },
    {
      "cell_type": "code",
      "source": [
        "## QUES 26) Write a code that prompts the user to input two sets of characters. Then, print the union of these two sets.\n",
        "def get_set_from_input(prompt):\n",
        "    # Prompt the user to enter a set of characters separated by commas\n",
        "    input_str = input(prompt)\n",
        "    # Convert the input string to a set of characters\n",
        "    input_set = set(input_str.split(','))\n",
        "    return input_set\n",
        "\n",
        "def main():\n",
        "    # Get the first set of characters from the user\n",
        "    set1 = get_set_from_input(\"Enter the first set of characters separated by commas: \")\n",
        "    # Get the second set of characters from the user\n",
        "    set2 = get_set_from_input(\"Enter the second set of characters separated by commas: \")\n",
        "\n",
        "    # Find the union of the"
      ],
      "metadata": {
        "id": "8tJmh-OKmdKp"
      },
      "execution_count": 31,
      "outputs": []
    },
    {
      "cell_type": "code",
      "source": [
        "## QUES 26) Write a code that prompts the user to input two sets of characters. Then, print the union of these two sets.\n",
        "def get_set_from_input(prompt):\n",
        "    # Prompt the user to enter a set of characters separated by commas\n",
        "    input_str = input(prompt)\n",
        "    # Convert the input string to a set of characters\n",
        "    input_set = set(input_str.split(','))\n",
        "    return input_set\n",
        "\n",
        "def main():\n",
        "    # Get the first set of characters from the user\n",
        "    set1 = get_set_from_input(\"Enter the first set of characters separated by commas: \")\n",
        "    # Get the second set of characters from the user\n",
        "    set2 = get_set_from_input(\"Enter the second set of characters separated by commas: \")\n",
        "\n",
        "    # Find the union of the two sets\n",
        "    union_set = set1.union(set2)\n",
        "\n",
        "    # Print the union of the two sets\n",
        "    print(\"Union of the two sets:\", union_set)\n",
        "\n",
        "# Run the main function\n",
        "if __name__ == \"__main__\":\n",
        "    main()\n"
      ],
      "metadata": {
        "colab": {
          "base_uri": "https://localhost:8080/"
        },
        "id": "NAlJSihimouf",
        "outputId": "2e1f98a0-b47b-4915-c229-539608e47594"
      },
      "execution_count": 32,
      "outputs": [
        {
          "output_type": "stream",
          "name": "stdout",
          "text": [
            "Enter the first set of characters separated by commas: \" CHAIR,CHALK\"\n",
            "Enter the second set of characters separated by commas: \"DUSTER,TABLE\"\n",
            "Union of the two sets: {'\" CHAIR', 'CHALK\"', '\"DUSTER', 'TABLE\"'}\n"
          ]
        }
      ]
    },
    {
      "cell_type": "code",
      "source": [
        "## QUES 27) Develop a code that takes a tuple of integers as input. The function should return the maximum and\n",
        "# minimum values from the tuple using tuple unpacking.\n",
        "def find_max_min(input_tuple):\n",
        "    # Unpack the tuple to find the maximum and minimum values\n",
        "    max_value = max(input_tuple)\n",
        "    min_value = min(input_tuple)\n",
        "    return max_value, min_value\n",
        "\n",
        "# Example usage\n",
        "input_tuple = (10, 20, 30, 40, 50, 60)\n",
        "max_value, min_value = find_max_min(input_tuple)\n",
        "print(\"Maximum value:\", max_value)\n",
        "print(\"Minimum value:\", min_value)\n"
      ],
      "metadata": {
        "colab": {
          "base_uri": "https://localhost:8080/"
        },
        "id": "yUhY4jk-m1Gu",
        "outputId": "9fcad420-e95f-4390-fff4-c89cc85604e2"
      },
      "execution_count": 33,
      "outputs": [
        {
          "output_type": "stream",
          "name": "stdout",
          "text": [
            "Maximum value: 60\n",
            "Minimum value: 10\n"
          ]
        }
      ]
    },
    {
      "cell_type": "code",
      "source": [
        "## QUES 28) Create a code that defines two sets of integers. Then, print the union, intersection, and difference of these\n",
        "# two sets.\n",
        "def main():\n",
        "    # Define two sets of integers\n",
        "    set1 = {1, 2, 3, 4, 5}\n",
        "    set2 = {4, 5, 6, 7, 8}\n",
        "\n",
        "    # Find the union of the two sets\n",
        "    union_set = set1.union(set2)\n",
        "    print(\"Union of the two sets:\", union_set)\n",
        "\n",
        "    # Find the intersection of the two sets\n",
        "    intersection_set = set1.intersection(set2)\n",
        "    print(\"Intersection of the two sets:\", intersection_set)\n",
        "\n",
        "    # Find the difference of the two sets (elements in set1 but not in set2)\n",
        "    difference_set = set1.difference(set2)\n",
        "    print(\"Difference of the two sets (set1 - set2):\", difference_set)\n",
        "\n",
        "# Run the main function\n",
        "if __name__ == \"__main__\":\n",
        "    main()\n"
      ],
      "metadata": {
        "colab": {
          "base_uri": "https://localhost:8080/"
        },
        "id": "_CEJnnP-nUn9",
        "outputId": "659c14e3-15c0-47a9-ce97-722bbbb051a6"
      },
      "execution_count": 35,
      "outputs": [
        {
          "output_type": "stream",
          "name": "stdout",
          "text": [
            "Union of the two sets: {1, 2, 3, 4, 5, 6, 7, 8}\n",
            "Intersection of the two sets: {4, 5}\n",
            "Difference of the two sets (set1 - set2): {1, 2, 3}\n"
          ]
        }
      ]
    },
    {
      "cell_type": "code",
      "source": [
        "## QUES 29) Write a code that takes a tuple and an element as input. The function should return the count of\n",
        "# occurrences of the given element in the tuple.\n",
        "def count_occurrences(input_tuple, element):\n",
        "    # Return the count of occurrences of the given element in the tuple\n",
        "    count = input_tuple.count(element)\n",
        "    return count\n",
        "\n",
        "# Example usage\n",
        "input_tuple = (10, 20, 30, 20, 40, 20)\n",
        "element = 20\n",
        "result = count_occurrences(input_tuple, element)\n",
        "print(\"Count of occurrences of\", element, \"in the tuple:\", result)\n"
      ],
      "metadata": {
        "colab": {
          "base_uri": "https://localhost:8080/"
        },
        "id": "Pvig7sjUneIp",
        "outputId": "f1ba0247-720e-42b3-c9c2-2216669ab0c7"
      },
      "execution_count": 36,
      "outputs": [
        {
          "output_type": "stream",
          "name": "stdout",
          "text": [
            "Count of occurrences of 20 in the tuple: 3\n"
          ]
        }
      ]
    },
    {
      "cell_type": "code",
      "source": [
        "## QUES 30) Develop a code that prompts the user to input two sets of strings. Then, print the symmetric difference of\n",
        "# these two sets.\n",
        "def get_set_from_input(prompt):\n",
        "    # Prompt the user to enter a set of strings separated by commas\n",
        "    input_str = input(prompt)\n",
        "    # Convert the input string to a set of strings\n",
        "    input_set = set(input_str.split(','))\n",
        "    return input_set\n",
        "\n",
        "def main():\n",
        "    # Get the first set of strings from the user\n",
        "    set1 = get_set_from_input(\"Enter the first set of strings separated by commas: \")\n",
        "    # Get the second set of strings from the user\n",
        "    set2 = get_set_from_input(\"Enter the second set of strings separated by commas: \")\n",
        "\n",
        "    # Find the symmetric difference of the two sets\n",
        "    symmetric_difference = set1.symmetric_difference(set2)\n",
        "\n",
        "    # Print the symmetric difference\n",
        "    print(\"Symmetric difference of the two sets:\", symmetric_difference)\n",
        "\n",
        "# Run the main function\n",
        "if __name__ == \"__main__\":\n",
        "    main()\n"
      ],
      "metadata": {
        "colab": {
          "base_uri": "https://localhost:8080/"
        },
        "id": "zjeSLrMQnx41",
        "outputId": "e4cb386c-1c84-4262-bc4a-7ceadf9b769b"
      },
      "execution_count": 38,
      "outputs": [
        {
          "output_type": "stream",
          "name": "stdout",
          "text": [
            "Enter the first set of strings separated by commas: \"11,5\"\n",
            "Enter the second set of strings separated by commas: \"5,69\"\n",
            "Symmetric difference of the two sets: {'5\"', '\"5', '69\"', '\"11'}\n"
          ]
        }
      ]
    },
    {
      "cell_type": "code",
      "source": [
        "## QUES 31)  Write a code that takes a list of words as input and returns a dictionary where the keys are unique words\n",
        "# and the values are the frequencies of those words in the input list.\n",
        "def word_frequencies(word_list):\n",
        "    # Create an empty dictionary to store word frequencies\n",
        "    frequency_dict = {}\n",
        "\n",
        "    # Iterate through the list of words\n",
        "    for word in word_list:\n",
        "        # If the word is already in the dictionary, increment its count\n",
        "        if word in frequency_dict:\n",
        "            frequency_dict[word] += 1\n",
        "        # If the word is not in the dictionary, add it with a count of 1\n",
        "        else:\n",
        "            frequency_dict[word] = 1\n",
        "\n",
        "    return frequency_dict\n",
        "\n",
        "# Example usage\n",
        "input_list = [\"apple\", \"banana\", \"apple\", \"orange\", \"banana\", \"apple\"]\n",
        "result = word_frequencies(input_list)\n",
        "print(\"Word frequencies:\", result)\n"
      ],
      "metadata": {
        "colab": {
          "base_uri": "https://localhost:8080/"
        },
        "id": "zvqqSBmYn8YZ",
        "outputId": "c8942d31-3780-4e1c-efca-3cb859714391"
      },
      "execution_count": 39,
      "outputs": [
        {
          "output_type": "stream",
          "name": "stdout",
          "text": [
            "Word frequencies: {'apple': 3, 'banana': 2, 'orange': 1}\n"
          ]
        }
      ]
    },
    {
      "cell_type": "code",
      "source": [
        "## QUES 32) Write a code that takes two dictionaries as input and merges them into a single dictionary. If there are\n",
        "# common keys, the values should be added together.\n",
        "def merge_dictionaries(dict1, dict2):\n",
        "    # Create a new dictionary to store the merged result\n",
        "    merged_dict = dict1.copy()\n",
        "\n",
        "    # Iterate through the second dictionary\n",
        "    for key, value in dict2.items():\n",
        "        # If the key is already in the merged dictionary, add the values\n",
        "        if key in merged_dict:\n",
        "            merged_dict[key] += value\n",
        "        # If the key is not in the merged dictionary, add the key-value pair\n",
        "        else:\n",
        "            merged_dict[key] = value\n",
        "\n",
        "    return merged_dict\n",
        "\n",
        "# Example usage\n",
        "dict1 = {'a': 1, 'b': 2, 'c': 3}\n",
        "dict2 = {'b': 3, 'c': 4, 'd': 5}\n",
        "result = merge_dictionaries(dict1, dict2)\n",
        "print(\"Merged dictionary:\", result)\n"
      ],
      "metadata": {
        "colab": {
          "base_uri": "https://localhost:8080/"
        },
        "id": "OM8JjXmQodo-",
        "outputId": "70b3eaf5-2262-4490-c5e3-7f7ab3a6b820"
      },
      "execution_count": 40,
      "outputs": [
        {
          "output_type": "stream",
          "name": "stdout",
          "text": [
            "Merged dictionary: {'a': 1, 'b': 5, 'c': 7, 'd': 5}\n"
          ]
        }
      ]
    },
    {
      "cell_type": "code",
      "source": [
        "## QUES 33) Write a code to access a value in a nested dictionary. The function should take the dictionary and a list of\n",
        "# keys as input, and return the corresponding value. If any of the keys do not exist in the dictionary, the\n",
        "# function should return None.\n",
        "def get_nested_value(nested_dict, keys):\n",
        "    current_dict = nested_dict\n",
        "    for key in keys:\n",
        "        if key in current_dict:\n",
        "            current_dict = current_dict[key]\n",
        "        else:\n",
        "            return None\n",
        "    return current_dict\n",
        "\n",
        "# Example usage\n",
        "nested_dict = {\n",
        "    'a': {\n",
        "        'b': {\n",
        "            'c': 42\n",
        "        }\n",
        "    }\n",
        "}\n",
        "keys = ['a', 'b', 'c']\n",
        "result = get_nested_value(nested_dict, keys)\n",
        "print(\"Value:\", result)  # Output: Value: 42\n",
        "\n",
        "keys = ['a', 'b', 'd']\n",
        "result = get_nested_value(nested_dict, keys)\n",
        "print(\"Value:\", result)  # Output: Value: None"
      ],
      "metadata": {
        "colab": {
          "base_uri": "https://localhost:8080/"
        },
        "id": "x4v62BI2ooif",
        "outputId": "37bc05f9-53f5-428f-ab80-9ee9608f27fb"
      },
      "execution_count": 41,
      "outputs": [
        {
          "output_type": "stream",
          "name": "stdout",
          "text": [
            "Value: 42\n",
            "Value: None\n"
          ]
        }
      ]
    },
    {
      "cell_type": "code",
      "source": [
        "## QUES 34) Write a code that takes a dictionary as input and returns a sorted version of it based on the values. You\n",
        "# can choose whether to sort in ascending or descending order.\n",
        "def sort_dict_by_values(input_dict, ascending=True):\n",
        "    # Sort the dictionary by values\n",
        "    sorted_items = sorted(input_dict.items(), key=lambda item: item[1], reverse=not ascending)\n",
        "    # Convert the sorted items back to a dictionary\n",
        "    sorted_dict = dict(sorted_items)\n",
        "    return sorted_dict\n",
        "\n",
        "# Example usage\n",
        "input_dict = {'a': 3, 'b': 1, 'c': 2}\n",
        "sorted_dict_ascending = sort_dict_by_values(input_dict, ascending=True)\n",
        "sorted_dict_descending = sort_dict_by_values(input_dict, ascending=False)\n",
        "print(\"Sorted dictionary (ascending):\", sorted_dict_ascending)\n",
        "print(\"Sorted dictionary (descending):\", sorted_dict_descending)\n"
      ],
      "metadata": {
        "colab": {
          "base_uri": "https://localhost:8080/"
        },
        "id": "1BjSE34Lo0Xd",
        "outputId": "3c50686b-5f1c-4247-b3e4-1253fe530a31"
      },
      "execution_count": 42,
      "outputs": [
        {
          "output_type": "stream",
          "name": "stdout",
          "text": [
            "Sorted dictionary (ascending): {'b': 1, 'c': 2, 'a': 3}\n",
            "Sorted dictionary (descending): {'a': 3, 'c': 2, 'b': 1}\n"
          ]
        }
      ]
    },
    {
      "cell_type": "code",
      "source": [
        "## QUES 35) Write a code that inverts a dictionary, swapping keys and values. Ensure that the inverted dictionary\n",
        "# correctly handles cases where multiple keys have the same value by storing the keys as a list in the\n",
        "# inverted dictionary.\n",
        "def invert_dictionary(input_dict):\n",
        "    # Create an empty dictionary to store the inverted result\n",
        "    inverted_dict = {}\n",
        "\n",
        "    # Iterate through the input dictionary\n",
        "    for key, value in input_dict.items():\n",
        "        # If the value is already a key in the inverted dictionary, append the key to the list\n",
        "        if value in inverted_dict:\n",
        "            inverted_dict[value].append(key)\n",
        "        # If the value is not a key in the inverted dictionary, create a new list with the key\n",
        "        else:\n",
        "            inverted_dict[value] = [key]\n",
        "\n",
        "    return inverted_dict\n",
        "\n",
        "# Example usage\n",
        "input_dict = {'a': 1, 'b': 2, 'c': 1, 'd': 3}\n",
        "result = invert_dictionary(input_dict)\n",
        "print(\"Inverted dictionary:\", result)"
      ],
      "metadata": {
        "colab": {
          "base_uri": "https://localhost:8080/"
        },
        "id": "xcRF38I-o9kr",
        "outputId": "a11a2104-22bc-428d-d9c9-ba9139c0cc7c"
      },
      "execution_count": 43,
      "outputs": [
        {
          "output_type": "stream",
          "name": "stdout",
          "text": [
            "Inverted dictionary: {1: ['a', 'c'], 2: ['b'], 3: ['d']}\n"
          ]
        }
      ]
    }
  ]
}